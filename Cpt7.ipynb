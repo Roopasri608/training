{
  "nbformat": 4,
  "nbformat_minor": 0,
  "metadata": {
    "colab": {
      "provenance": [],
      "authorship_tag": "ABX9TyNZ6qrr8J7WEA3FvBE99h4V",
      "include_colab_link": true
    },
    "kernelspec": {
      "name": "python3",
      "display_name": "Python 3"
    },
    "language_info": {
      "name": "python"
    }
  },
  "cells": [
    {
      "cell_type": "markdown",
      "metadata": {
        "id": "view-in-github",
        "colab_type": "text"
      },
      "source": [
        "<a href=\"https://colab.research.google.com/github/KodaliSuchitraKamala/CPT_Training/blob/main/Cpt7.ipynb\" target=\"_parent\"><img src=\"https://colab.research.google.com/assets/colab-badge.svg\" alt=\"Open In Colab\"/></a>"
      ]
    },
    {
      "cell_type": "markdown",
      "source": [
        "#### Multi-level Inheritance"
      ],
      "metadata": {
        "id": "yHNiKKpD_E6B"
      }
    },
    {
      "cell_type": "code",
      "execution_count": 1,
      "metadata": {
        "colab": {
          "base_uri": "https://localhost:8080/"
        },
        "id": "kzeKey7f7Fzy",
        "outputId": "ba1f8994-7a04-43ee-d2ee-344f7b9d9947"
      },
      "outputs": [
        {
          "output_type": "stream",
          "name": "stdout",
          "text": [
            "Animal sound\n",
            "Dog barks......!!\n",
            "Puppy weeps......!!\n"
          ]
        }
      ],
      "source": [
        "class pet:\n",
        "  def sound(self):\n",
        "    print(\"Animal sound\")\n",
        "class dog(pet):\n",
        "  def bark(self):\n",
        "    print(\"Dog barks......!!\")\n",
        "class puppy(dog):\n",
        "  def weep(self):\n",
        "    print(\"Puppy weeps......!!\")\n",
        "Puppy = puppy()\n",
        "Puppy.sound()\n",
        "Puppy.bark()\n",
        "Puppy.weep()"
      ]
    },
    {
      "cell_type": "markdown",
      "source": [
        "#### code for math operations using base class, with first and second dervied class respectively\n",
        "#### Create an object where derived class will be executed and perform mutliple operations"
      ],
      "metadata": {
        "id": "sjDuw-KHBsXh"
      }
    },
    {
      "cell_type": "code",
      "source": [
        "class numbers:\n",
        "  def __init__(self, a, b):\n",
        "    self.a = a\n",
        "    self.b = b\n",
        "class basicops(numbers):\n",
        "  def add(self):\n",
        "    return self.a + self.b\n",
        "  def sub(self):\n",
        "    return self.a - self.b\n",
        "class advops(basicops):\n",
        "  def mul(self):\n",
        "    return self.a * self.b\n",
        "  def div(self):\n",
        "    return self.a / self.b\n",
        "x = int(input(\"Enter the vlaue of x: \"))\n",
        "y = int(input(\"Enter the vlaue of y: \"))\n",
        "calc = advops(x, y)\n",
        "print(\"Addition: \", calc.add())\n",
        "print(\"Subtraction: \", calc.sub())\n",
        "print(\"Multiplication: \", calc.mul())\n",
        "print(\"Division: \", calc.div())"
      ],
      "metadata": {
        "colab": {
          "base_uri": "https://localhost:8080/"
        },
        "id": "ncsZXTXgAI7J",
        "outputId": "0d4a04a5-ab29-4808-9c80-91b65467545a"
      },
      "execution_count": 2,
      "outputs": [
        {
          "output_type": "stream",
          "name": "stdout",
          "text": [
            "Enter the vlaue of x: 10\n",
            "Enter the vlaue of y: 5\n",
            "Addition:  15\n",
            "Subtraction:  5\n",
            "Multiplication:  50\n",
            "Division:  2.0\n"
          ]
        }
      ]
    },
    {
      "cell_type": "markdown",
      "source": [
        "#### code for student grading system, where student base class has to be derived by marks and marks with grades in a multi-Level inheritances.\n",
        "#### caliculate the grade to be alloted to the student with marks A, B, C, D with >= 90, >= 75. >= 60 or less than 60 respectively.\n",
        "#### Student: Henry\n",
        "#### Marks : [85, 90, 78, 92]\n",
        "#### Caliculate and display marks, avg, grade of Henry"
      ],
      "metadata": {
        "id": "UpVmDbxMFj7C"
      }
    },
    {
      "cell_type": "code",
      "source": [
        "class student():\n",
        "  def __init__(self, name):\n",
        "    self.name = name\n",
        "class marks(student):\n",
        "  def __init__(self, name, marks):\n",
        "    super().__init__(name)\n",
        "    self.marks = marks\n",
        "  def total_marks(self):\n",
        "    return sum(self.marks)\n",
        "class grades(marks):\n",
        "  def average(self):\n",
        "    return self.total_marks() / len(self.marks)\n",
        "  def cal_grade(self):\n",
        "    avg = self.average()\n",
        "    if avg >= 90:\n",
        "      self.grade = \"A\"\n",
        "    elif avg >= 75:\n",
        "      self.grade = \"B\"\n",
        "    elif avg >= 60:\n",
        "      self.grade = \"C\"\n",
        "    else:\n",
        "      self.grade = \"D\"\n",
        "    return self.grade\n",
        "name = input(\"Enter the student name: \")\n",
        "subjects = int(input(\"Enter the number of subjects: \"))\n",
        "Marks = []\n",
        "for i in range(subjects):\n",
        "  Mark = float(input(f\"Enter the marks for subject {i + 1}: \"))\n",
        "  Marks.append(Mark)\n",
        "Student = grades(name, Marks)\n",
        "print(\"Student Name: \", Student.name)\n",
        "print(\"Total marks: \", Student.total_marks())\n",
        "print(\"Average: \", Student.average())\n",
        "print(\"Student Grade: \", Student.cal_grade())"
      ],
      "metadata": {
        "colab": {
          "base_uri": "https://localhost:8080/"
        },
        "id": "1xZBsI3oDnlZ",
        "outputId": "76352ac7-9308-4468-81a2-c0af6eb79c8e"
      },
      "execution_count": 3,
      "outputs": [
        {
          "output_type": "stream",
          "name": "stdout",
          "text": [
            "Enter the student name: Suchitra\n",
            "Enter the number of subjects: 5\n",
            "Enter the marks for subject 1: 95\n",
            "Enter the marks for subject 2: 93\n",
            "Enter the marks for subject 3: 88\n",
            "Enter the marks for subject 4: 85\n",
            "Enter the marks for subject 5: 80\n",
            "Student Name:  Suchitra\n",
            "Total marks:  441.0\n",
            "Average:  88.2\n",
            "Student Grade:  B\n"
          ]
        }
      ]
    },
    {
      "cell_type": "markdown",
      "source": [
        "#### Hierarchical Inheritance"
      ],
      "metadata": {
        "id": "mpuu1183Mo3i"
      }
    },
    {
      "cell_type": "code",
      "source": [
        "class pet:\n",
        "  def __init__(self, name):\n",
        "    self.name = name\n",
        "  def sound(self):\n",
        "    print(f\"{self.name} marks a sound\")\n",
        "class dog(pet):\n",
        "  def sound(self):\n",
        "    print(f\"{self.name} barks\")\n",
        "class cat(pet):\n",
        "  def sound(self):\n",
        "    print(f\"{self.name} meows\")\n",
        "d = dog(\"Tommy\")\n",
        "c = cat(\"Kitty\")\n",
        "d.sound()\n",
        "c.sound()"
      ],
      "metadata": {
        "colab": {
          "base_uri": "https://localhost:8080/"
        },
        "id": "wadj7864L9iT",
        "outputId": "4895091a-c954-4b93-a86b-45bf110e807e"
      },
      "execution_count": 4,
      "outputs": [
        {
          "output_type": "stream",
          "name": "stdout",
          "text": [
            "Tommy barks\n",
            "Kitty meows\n"
          ]
        }
      ]
    },
    {
      "cell_type": "markdown",
      "source": [
        "#### Hierarchical geometry operations of different shapes area values of all circle, rectangle, triangle derived classes"
      ],
      "metadata": {
        "id": "eJDlnIzWRl3j"
      }
    },
    {
      "cell_type": "code",
      "source": [
        "import math\n",
        "class shape:\n",
        "  def __init__(self, d1, d2 = 0):\n",
        "    self.d1 = d1\n",
        "    self.d2 = d2\n",
        "class rectangle(shape):\n",
        "  def area(self):\n",
        "    return self.d1 * self.d2\n",
        "class circle(shape):\n",
        "  def area(self):\n",
        "    return math.pi * self.d1 * self.d1\n",
        "class triangle(shape):\n",
        "  def area(self):\n",
        "    return 0.5 * self.d1 * self.d2\n",
        "rect = rectangle(10, 5)\n",
        "cir = circle(5)\n",
        "tri = triangle(4, 6)\n",
        "print(\"Area of Rectangle: \", rect.area())\n",
        "print(\"Area of Circle: \", round(cir.area(),2))\n",
        "print(\"Area of Triangle: \", tri.area())"
      ],
      "metadata": {
        "colab": {
          "base_uri": "https://localhost:8080/"
        },
        "id": "Iw1MrTQgN5rC",
        "outputId": "f794b255-5b20-4fb5-936e-64b30b9dcce9"
      },
      "execution_count": 6,
      "outputs": [
        {
          "output_type": "stream",
          "name": "stdout",
          "text": [
            "Area of Rectangle:  50\n",
            "Area of Circle:  78.54\n",
            "Area of Triangle:  12.0\n"
          ]
        }
      ]
    },
    {
      "cell_type": "markdown",
      "source": [
        "#### Abstraction of base class for evaluating the area of square, rectangle, triangle"
      ],
      "metadata": {
        "id": "1DN-d_lfbHRL"
      }
    },
    {
      "cell_type": "code",
      "source": [
        "from math import pi\n",
        "from abc import ABC, abstractmethod\n",
        "class shape:\n",
        "  def __init__(self, name):\n",
        "    self.name = name\n",
        "  @abstractmethod\n",
        "  def area(self):\n",
        "    pass\n",
        "class rectangle(shape):\n",
        "  def __init__(self, l, b):\n",
        "    super().__init__(\"rectangle\")\n",
        "    self.l = l\n",
        "    self.b = b\n",
        "  def area(self):\n",
        "    return self.l * self.b\n",
        "class circle(shape):\n",
        "  def __init__(self, r):\n",
        "    super().__init__(\"circle\")\n",
        "    self.r = r\n",
        "  def area(self):\n",
        "    return pi * self.r * self.r\n",
        "class triangle(shape):\n",
        "  def __init__(self, b, h):\n",
        "    super().__init__(\"triangle\")\n",
        "    self.b = b\n",
        "    self.h = h\n",
        "  def area(self):\n",
        "    return 0.5 * self.b * self.h\n",
        "r = rectangle(11, 2)\n",
        "c = circle(6)\n",
        "t = triangle(4,6)\n",
        "print(\"Area of Rectangle: \", r.area())\n",
        "print(\"Area of Circle: \", round(c.area(), 2))\n",
        "print(\"Area of Triangle: \", t.area())"
      ],
      "metadata": {
        "colab": {
          "base_uri": "https://localhost:8080/"
        },
        "id": "E4SnQYbYVl5U",
        "outputId": "adfdbc6c-bf26-443e-9a95-ec696a1bf09a"
      },
      "execution_count": 8,
      "outputs": [
        {
          "output_type": "stream",
          "name": "stdout",
          "text": [
            "Area of Rectangle:  22\n",
            "Area of Circle:  113.1\n",
            "Area of Triangle:  12.0\n"
          ]
        }
      ]
    },
    {
      "cell_type": "code",
      "source": [],
      "metadata": {
        "id": "I1ZZod0OfvFz"
      },
      "execution_count": null,
      "outputs": []
    }
  ]
}