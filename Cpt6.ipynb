{
  "nbformat": 4,
  "nbformat_minor": 0,
  "metadata": {
    "colab": {
      "provenance": [],
      "authorship_tag": "ABX9TyNHR2SaJ89MjDgK62y2pj7F",
      "include_colab_link": true
    },
    "kernelspec": {
      "name": "python3",
      "display_name": "Python 3"
    },
    "language_info": {
      "name": "python"
    }
  },
  "cells": [
    {
      "cell_type": "markdown",
      "metadata": {
        "id": "view-in-github",
        "colab_type": "text"
      },
      "source": [
        "<a href=\"https://colab.research.google.com/github/KodaliSuchitraKamala/CPT_Training/blob/main/Cpt6.ipynb\" target=\"_parent\"><img src=\"https://colab.research.google.com/assets/colab-badge.svg\" alt=\"Open In Colab\"/></a>"
      ]
    },
    {
      "cell_type": "markdown",
      "source": [
        "#### Delete method __del__()"
      ],
      "metadata": {
        "id": "K2pXPLgwBH0Q"
      }
    },
    {
      "cell_type": "code",
      "execution_count": null,
      "metadata": {
        "colab": {
          "base_uri": "https://localhost:8080/"
        },
        "id": "64l9AnPaAfw_",
        "outputId": "885ad44d-4b20-47ba-9d70-cd7ddabb073a"
      },
      "outputs": [
        {
          "output_type": "stream",
          "name": "stdout",
          "text": [
            "The Object value: 10\n",
            "The class var value: 1\n",
            "The Object value: 20\n",
            "The class var value: 2\n",
            "The Object value: 30\n",
            "The class var value: 3\n",
            "Object with value 10 is going out of scope\n",
            "Object with value 20 is going out of scope\n"
          ]
        }
      ],
      "source": [
        "class abc():\n",
        "  classvar = 0\n",
        "  def __init__(self, var):\n",
        "    abc.classvar += 1\n",
        "    self.var = var\n",
        "    print(\"The Object value:\", var)\n",
        "    print(\"The class var value:\", abc.classvar)\n",
        "  def __del__(self):\n",
        "    abc.classvar -= 1\n",
        "    print(\"Object with value %d is going out of scope\" %self.var)\n",
        "obj1 = abc(10)\n",
        "obj2 = abc(20)\n",
        "obj3 = abc(30)\n",
        "del obj1\n",
        "del obj2"
      ]
    },
    {
      "cell_type": "markdown",
      "source": [
        "#### Special methods\n",
        "###### __ repr __()\n",
        "###### __ len __()\n",
        "###### __ cmp __()\n",
        "###### __ call __()\n",
        "###### __ hash __()\n",
        "#### Operational\n",
        "###### __ gt __()\n",
        "###### ___ ge __()\n",
        "###### __ lt __()\n",
        "###### __ le __()\n",
        "###### __ eq __()\n",
        "###### __ ne __()\n",
        "###### __ iter __()\n",
        "###### __ getitem __()\n",
        "###### __ setitem __()"
      ],
      "metadata": {
        "id": "BNJudI_vEmaA"
      }
    },
    {
      "cell_type": "code",
      "source": [
        "class num:\n",
        "  def __init__(self, nums):\n",
        "    self.nums = nums\n",
        "  def __getitem__(self, index):\n",
        "    return self.nums[index]\n",
        "  def __setitem__(self, index, value):\n",
        "    self.nums[index] = value\n",
        "numlist = num([1, 2, 3, 4, 5, 6, 7, 8, 9])\n",
        "print(\"Before Modify\")\n",
        "print(numlist.nums)\n",
        "numlist[3] = 10\n",
        "print(\"After Modify\")\n",
        "print(numlist.nums)"
      ],
      "metadata": {
        "colab": {
          "base_uri": "https://localhost:8080/"
        },
        "id": "TCefwoqJBK8x",
        "outputId": "72eb44a6-33c8-4073-846c-5493c33df01c"
      },
      "execution_count": null,
      "outputs": [
        {
          "output_type": "stream",
          "name": "stdout",
          "text": [
            "Before Modify\n",
            "[1, 2, 3, 4, 5, 6, 7, 8, 9]\n",
            "After Modify\n",
            "[1, 2, 3, 10, 5, 6, 7, 8, 9]\n"
          ]
        }
      ]
    },
    {
      "cell_type": "markdown",
      "source": [
        "#### Publi variable and Private Variable"
      ],
      "metadata": {
        "id": "p3LUaBYNHxCn"
      }
    },
    {
      "cell_type": "code",
      "source": [
        "class abc:\n",
        "  def __init__(self, var1, var2):\n",
        "    self.var1 = var1             # Public\n",
        "    self.__var2 = var2           # Private\n",
        "  def display(self):\n",
        "    print(\"Public From Class Method: \", self.var1)\n",
        "    print(\"Private From Class Method: \", self.__var2)\n",
        "obj = abc(10, 100)\n",
        "obj.display()\n",
        "print(\"Public Class from Outside: \", obj.var1)\n",
        "print(\"Private Class from Outside: \", obj._abc__var2)\n",
        "print(\"Private Class from Outside: \", __var2)  # Cannot be called by a global instance"
      ],
      "metadata": {
        "colab": {
          "base_uri": "https://localhost:8080/",
          "height": 245
        },
        "id": "Rukag50UG9S5",
        "outputId": "79bc53e5-59de-4b3e-e160-53c918f81f8c"
      },
      "execution_count": null,
      "outputs": [
        {
          "output_type": "stream",
          "name": "stdout",
          "text": [
            "Public From Class Method:  10\n",
            "Private From Class Method:  100\n",
            "Public Class from Outside:  10\n",
            "Private Class from Outside:  100\n"
          ]
        },
        {
          "output_type": "error",
          "ename": "NameError",
          "evalue": "name '__var2' is not defined",
          "traceback": [
            "\u001b[0;31m---------------------------------------------------------------------------\u001b[0m",
            "\u001b[0;31mNameError\u001b[0m                                 Traceback (most recent call last)",
            "\u001b[0;32m<ipython-input-4-73dcdc6d3f67>\u001b[0m in \u001b[0;36m<cell line: 0>\u001b[0;34m()\u001b[0m\n\u001b[1;32m     10\u001b[0m \u001b[0mprint\u001b[0m\u001b[0;34m(\u001b[0m\u001b[0;34m\"Public Class from Outside: \"\u001b[0m\u001b[0;34m,\u001b[0m \u001b[0mobj\u001b[0m\u001b[0;34m.\u001b[0m\u001b[0mvar1\u001b[0m\u001b[0;34m)\u001b[0m\u001b[0;34m\u001b[0m\u001b[0;34m\u001b[0m\u001b[0m\n\u001b[1;32m     11\u001b[0m \u001b[0mprint\u001b[0m\u001b[0;34m(\u001b[0m\u001b[0;34m\"Private Class from Outside: \"\u001b[0m\u001b[0;34m,\u001b[0m \u001b[0mobj\u001b[0m\u001b[0;34m.\u001b[0m\u001b[0m_abc__var2\u001b[0m\u001b[0;34m)\u001b[0m\u001b[0;34m\u001b[0m\u001b[0;34m\u001b[0m\u001b[0m\n\u001b[0;32m---> 12\u001b[0;31m \u001b[0mprint\u001b[0m\u001b[0;34m(\u001b[0m\u001b[0;34m\"Private Class from Outside: \"\u001b[0m\u001b[0;34m,\u001b[0m \u001b[0m__var2\u001b[0m\u001b[0;34m)\u001b[0m  \u001b[0;31m# Cannot be called by a global instance\u001b[0m\u001b[0;34m\u001b[0m\u001b[0;34m\u001b[0m\u001b[0m\n\u001b[0m",
            "\u001b[0;31mNameError\u001b[0m: name '__var2' is not defined"
          ]
        }
      ]
    },
    {
      "cell_type": "markdown",
      "source": [
        "#### Buit-in class attributes .__\n",
        "###### 1. .__dict__:\n",
        "###### 2. .__doc__:\n",
        "###### 3. .__name__:\n",
        "###### 4. .__module__:\n",
        "###### 5. .__bases__:"
      ],
      "metadata": {
        "id": "P4EcSATfLga3"
      }
    },
    {
      "cell_type": "code",
      "source": [
        "class abc():\n",
        "  def __init__(self, var1, var2):\n",
        "    self.var1 = var1\n",
        "    self.var2 =var2\n",
        "  def display(self):\n",
        "    print(\"Variable 1: \", self.var1)\n",
        "    print(\"Variable 2: \", self.var2)\n",
        "obj = abc(10, 100)\n",
        "print(\"Object .__dict__ = \", obj.__dict__)\n",
        "print(\"Object .__doc__ = \", obj.__doc__)\n",
        "print(\"Class .__name__ = \", abc.__name__)\n",
        "print(\"Object .__module__ = \", obj.__module__)\n",
        "print(\"Class .__bases__ = \", abc.__bases__)"
      ],
      "metadata": {
        "colab": {
          "base_uri": "https://localhost:8080/"
        },
        "id": "M9Vr-ZjKJV4w",
        "outputId": "8766e520-d193-4528-e2ec-295d05d331d6"
      },
      "execution_count": null,
      "outputs": [
        {
          "output_type": "stream",
          "name": "stdout",
          "text": [
            "Object .__dict__ =  {'var1': 10, 'var2': 100}\n",
            "Object .__doc__ =  None\n",
            "Class .__name__ =  abc\n",
            "Object .__module__ =  __main__\n",
            "Class .__bases__ =  (<class 'object'>,)\n"
          ]
        }
      ]
    },
    {
      "cell_type": "markdown",
      "source": [
        "#### Inheritance\n",
        "###### 1. Multiple\n",
        "###### 2. Multi-level\n",
        "###### 3. Hierarchical\n",
        "###### 4. Hybrid\n",
        "###### 5. Simple\n",
        "###### 6. Multipath (or) Diamoond approach\n",
        "###### 7. Meta\n",
        "###### 8. Down-Top"
      ],
      "metadata": {
        "id": "dxrA1jzjOhl_"
      }
    },
    {
      "cell_type": "markdown",
      "source": [
        "#### Inheritance - Multiple\n",
        "#### code to demo the call from super class through constructor of  base class"
      ],
      "metadata": {
        "id": "B3At0MKkO4lW"
      }
    },
    {
      "cell_type": "code",
      "source": [
        "class base1(object):\n",
        "  def __init__(self):\n",
        "    print(\"BASE CLASS 1\")\n",
        "    super(base1, self).__init__()\n",
        "class base2(object):\n",
        "  def __init__(self):\n",
        "    print(\"BASE CLASS 2\")\n",
        "    super(base2, self).__init__()\n",
        "class derived(base1, base2):\n",
        "  def __init__(self):\n",
        "    super(derived, self).__init__()\n",
        "    print(\"DERIVED CLASS\")\n",
        "d = derived()"
      ],
      "metadata": {
        "colab": {
          "base_uri": "https://localhost:8080/"
        },
        "id": "VqZOV5QfM75w",
        "outputId": "15083537-bc19-48de-d43d-3f617899c4e2"
      },
      "execution_count": null,
      "outputs": [
        {
          "output_type": "stream",
          "name": "stdout",
          "text": [
            "BASE CLASS 1\n",
            "BASE CLASS 2\n",
            "DERIVED CLASS\n"
          ]
        }
      ]
    },
    {
      "cell_type": "markdown",
      "source": [
        "#### Multiple inheritance Using in Calc\n"
      ],
      "metadata": {
        "id": "I7ZK-Fq7egVO"
      }
    },
    {
      "cell_type": "code",
      "source": [
        "class addition:\n",
        "  def add(self, a, b):\n",
        "    return a + b\n",
        "class subtract:\n",
        "  def sub(self, a, b):\n",
        "    return a - b\n",
        "class calc(addition, subtract):\n",
        "  def mul(self, a, b):\n",
        "    return a * b\n",
        "c = calc()\n",
        "num1 = int(input(\"Enter the value of a: \"))\n",
        "num2 = int(input(\"Enter the value of b: \"))\n",
        "print(\"Addition: \", c.add(num1, num2))\n",
        "print(\"Subtraction: \", c.sub(num1, num2))\n",
        "print(\"Multiplication\", c.mul(num1, num2))"
      ],
      "metadata": {
        "colab": {
          "base_uri": "https://localhost:8080/"
        },
        "id": "dsu0Va0VRFYZ",
        "outputId": "d6318df6-d517-40e4-ae4e-7fecae8b25e5"
      },
      "execution_count": null,
      "outputs": [
        {
          "output_type": "stream",
          "name": "stdout",
          "text": [
            "Enter the value of a: 5\n",
            "Enter the value of b: 2\n",
            "Addition:  7\n",
            "Subtraction:  3\n",
            "Multiplication 10\n"
          ]
        }
      ]
    },
    {
      "cell_type": "code",
      "source": [],
      "metadata": {
        "id": "7rdWnN7CgHLg"
      },
      "execution_count": null,
      "outputs": []
    }
  ]
}