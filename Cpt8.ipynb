{
  "nbformat": 4,
  "nbformat_minor": 0,
  "metadata": {
    "colab": {
      "provenance": [],
      "authorship_tag": "ABX9TyNKFbvi1xK5pbPt9uscDb77",
      "include_colab_link": true
    },
    "kernelspec": {
      "name": "python3",
      "display_name": "Python 3"
    },
    "language_info": {
      "name": "python"
    }
  },
  "cells": [
    {
      "cell_type": "markdown",
      "metadata": {
        "id": "view-in-github",
        "colab_type": "text"
      },
      "source": [
        "<a href=\"https://colab.research.google.com/github/KodaliSuchitraKamala/CPT_Training/blob/main/Cpt8.ipynb\" target=\"_parent\"><img src=\"https://colab.research.google.com/assets/colab-badge.svg\" alt=\"Open In Colab\"/></a>"
      ]
    },
    {
      "cell_type": "markdown",
      "source": [
        "## Encapsulation\n"
      ],
      "metadata": {
        "id": "HiIm1erCoSvT"
      }
    },
    {
      "cell_type": "markdown",
      "source": [
        "#### Basic Encapsulation With atttributes, Private attributes\n",
        "#### 1. __ var, __ x, __ a\n",
        "####     self. __ a\n"
      ],
      "metadata": {
        "id": "KDXT8GQeoWIq"
      }
    },
    {
      "cell_type": "code",
      "execution_count": null,
      "metadata": {
        "id": "bnIq58SCkeeR",
        "colab": {
          "base_uri": "https://localhost:8080/"
        },
        "outputId": "c1876420-8a7e-4c28-9633-39bb18b59760"
      },
      "outputs": [
        {
          "output_type": "stream",
          "name": "stdout",
          "text": [
            "BMW\n",
            "160\n",
            "200\n",
            "Car is not moving\n"
          ]
        }
      ],
      "source": [
        "class car:\n",
        "  def __init__(self, brand, speed):\n",
        "    self.brand = brand\n",
        "    self.__speed = speed\n",
        "  def get_speed(self):\n",
        "    return self.__speed\n",
        "  def set_speed(self, speed):\n",
        "    if speed >= 0:\n",
        "      self.__speed = speed\n",
        "    else:\n",
        "      print(\"Car is not moving\")\n",
        "c = car(\"BMW\", 160)\n",
        "print(c.brand)\n",
        "print(c.get_speed())\n",
        "c.set_speed(200)\n",
        "print(c.get_speed())\n",
        "c.set_speed(-10)"
      ]
    },
    {
      "cell_type": "markdown",
      "source": [
        "#### Protected Attributes"
      ],
      "metadata": {
        "id": "lp5Z1_GVrjFD"
      }
    },
    {
      "cell_type": "code",
      "source": [
        "class student:\n",
        "  def __init__(self, name, age):\n",
        "    self._name = name\n",
        "    self._age = age\n",
        "  def display(self):\n",
        "    print(f\"Name: {self._name}, Age: {self._age}\")\n",
        "s = student(\"Suchitra\", 20)\n",
        "print(s._name)\n",
        "s.display()"
      ],
      "metadata": {
        "colab": {
          "base_uri": "https://localhost:8080/"
        },
        "id": "0JknH_ZQq1o1",
        "outputId": "acd2635e-8c09-4679-fb3a-108ad77ace33"
      },
      "execution_count": null,
      "outputs": [
        {
          "output_type": "stream",
          "name": "stdout",
          "text": [
            "Suchitra\n",
            "Name: Suchitra, Age: 20\n"
          ]
        }
      ]
    },
    {
      "cell_type": "markdown",
      "source": [
        "#### Private Methods"
      ],
      "metadata": {
        "id": "HzXHd8j3thki"
      }
    },
    {
      "cell_type": "code",
      "source": [
        "class emp:\n",
        "  def __init__(self, name, sal):\n",
        "    self.name = name\n",
        "    self.__sal = sal\n",
        "  def __bonus(self):\n",
        "    return self.__sal * 0.4\n",
        "  def package(self):\n",
        "    return self.__sal + self.__bonus()\n",
        "e = emp(\"Suchitra\", 500000)\n",
        "print(e.package())"
      ],
      "metadata": {
        "id": "pFBrxo-Lsd4D",
        "colab": {
          "base_uri": "https://localhost:8080/"
        },
        "outputId": "2231339e-de6a-440b-e7da-3112ef2089c6"
      },
      "execution_count": null,
      "outputs": [
        {
          "output_type": "stream",
          "name": "stdout",
          "text": [
            "700000.0\n"
          ]
        }
      ]
    },
    {
      "cell_type": "markdown",
      "source": [
        "#### caliculate the average of 4 subjects of a student by taking protected attribute, pass name anf four subjects marks to class student find gpa and assign the avg to gpa\n",
        "#### name = \"*****\"\n",
        "#### output = [99, 79, 84, 95]\n",
        "#### output = average of grades = 90.0\n",
        "#### output = name *****, gpa = 89.25"
      ],
      "metadata": {
        "id": "bKHV6mYMxzvN"
      }
    },
    {
      "cell_type": "code",
      "source": [
        "class student:\n",
        "  def __init__(self, name, marks):\n",
        "    self._name = name\n",
        "    self._marks = marks\n",
        "  def gpa(self):\n",
        "    if not self._marks:\n",
        "      return 0\n",
        "    return sum(self._marks) / len(self._marks)\n",
        "  def set_gpa(self):\n",
        "    print(f\"Name: {self._name}, GPA: {self.gpa():.2f}\")\n",
        "s = student(\"Suchitra\", [99, 79, 84, 95])\n",
        "print(s.gpa())\n",
        "s.set_gpa()"
      ],
      "metadata": {
        "colab": {
          "base_uri": "https://localhost:8080/"
        },
        "id": "aQWk3LHt0qWL",
        "outputId": "3927cd41-14be-4dc5-c669-b2907f8ad495"
      },
      "execution_count": null,
      "outputs": [
        {
          "output_type": "stream",
          "name": "stdout",
          "text": [
            "89.25\n",
            "Name: Suchitra, GPA: 89.25\n"
          ]
        }
      ]
    },
    {
      "cell_type": "markdown",
      "source": [
        "## Errors and Exceptions"
      ],
      "metadata": {
        "id": "6KTvdoJH4fVz"
      }
    },
    {
      "cell_type": "code",
      "source": [
        "5 / 0"
      ],
      "metadata": {
        "colab": {
          "base_uri": "https://localhost:8080/",
          "height": 141
        },
        "id": "zYU0Lp6A1jk5",
        "outputId": "16d24272-b5d7-4343-b9fd-691230ccfd16"
      },
      "execution_count": null,
      "outputs": [
        {
          "output_type": "error",
          "ename": "ZeroDivisionError",
          "evalue": "division by zero",
          "traceback": [
            "\u001b[0;31m---------------------------------------------------------------------------\u001b[0m",
            "\u001b[0;31mZeroDivisionError\u001b[0m                         Traceback (most recent call last)",
            "\u001b[0;32m<ipython-input-9-adafc2937013>\u001b[0m in \u001b[0;36m<cell line: 0>\u001b[0;34m()\u001b[0m\n\u001b[0;32m----> 1\u001b[0;31m \u001b[0;36m5\u001b[0m \u001b[0;34m/\u001b[0m \u001b[0;36m0\u001b[0m\u001b[0;34m\u001b[0m\u001b[0;34m\u001b[0m\u001b[0m\n\u001b[0m",
            "\u001b[0;31mZeroDivisionError\u001b[0m: division by zero"
          ]
        }
      ]
    },
    {
      "cell_type": "code",
      "source": [
        "var + 77"
      ],
      "metadata": {
        "colab": {
          "base_uri": "https://localhost:8080/",
          "height": 141
        },
        "id": "dsArr30u4qZ7",
        "outputId": "9d62b098-4e52-4e13-a81e-090382b961e1"
      },
      "execution_count": null,
      "outputs": [
        {
          "output_type": "error",
          "ename": "NameError",
          "evalue": "name 'var' is not defined",
          "traceback": [
            "\u001b[0;31m---------------------------------------------------------------------------\u001b[0m",
            "\u001b[0;31mNameError\u001b[0m                                 Traceback (most recent call last)",
            "\u001b[0;32m<ipython-input-10-68cc4684182a>\u001b[0m in \u001b[0;36m<cell line: 0>\u001b[0;34m()\u001b[0m\n\u001b[0;32m----> 1\u001b[0;31m \u001b[0mvar\u001b[0m \u001b[0;34m+\u001b[0m \u001b[0;36m77\u001b[0m\u001b[0;34m\u001b[0m\u001b[0;34m\u001b[0m\u001b[0m\n\u001b[0m",
            "\u001b[0;31mNameError\u001b[0m: name 'var' is not defined"
          ]
        }
      ]
    },
    {
      "cell_type": "code",
      "source": [
        "'abc' + 123"
      ],
      "metadata": {
        "colab": {
          "base_uri": "https://localhost:8080/",
          "height": 141
        },
        "id": "3_3042WT4wNh",
        "outputId": "8f46323f-c711-4b20-a020-e0f2b7f0fa65"
      },
      "execution_count": null,
      "outputs": [
        {
          "output_type": "error",
          "ename": "TypeError",
          "evalue": "can only concatenate str (not \"int\") to str",
          "traceback": [
            "\u001b[0;31m---------------------------------------------------------------------------\u001b[0m",
            "\u001b[0;31mTypeError\u001b[0m                                 Traceback (most recent call last)",
            "\u001b[0;32m<ipython-input-11-09288ff2ed8a>\u001b[0m in \u001b[0;36m<cell line: 0>\u001b[0;34m()\u001b[0m\n\u001b[0;32m----> 1\u001b[0;31m \u001b[0;34m'abc'\u001b[0m \u001b[0;34m+\u001b[0m \u001b[0;36m123\u001b[0m\u001b[0;34m\u001b[0m\u001b[0;34m\u001b[0m\u001b[0m\n\u001b[0m",
            "\u001b[0;31mTypeError\u001b[0m: can only concatenate str (not \"int\") to str"
          ]
        }
      ]
    },
    {
      "cell_type": "markdown",
      "source": [
        "#### Built-in Exceptions - the exception that can handled or can solved\n",
        "###### 1. Exception\n",
        "###### 2. StandardError\n",
        "###### 3. SystemError - sys.exit()\n",
        "###### 4. OverflowError\n",
        "###### 5. ArthematicError\n",
        "###### 6. IndexError\n",
        "###### 7. KeyError\n",
        "###### 8. KeyboardInterupt\n",
        "###### 9. StopIterationError\n",
        "###### 10. TypeError\n",
        "###### 11. NameError\n",
        "###### 12. ZeroDivisionError\n",
        "###### 13. EnvironmentalError\n",
        "###### 14. IOError - while import file like '.csv' and it triggering or not importing the file\n",
        "###### 15. NotImplementedError"
      ],
      "metadata": {
        "id": "UfowhJWe5RsR"
      }
    },
    {
      "cell_type": "markdown",
      "source": [
        "```\n",
        "try:\n",
        "  statement 1\n",
        "  statement 2\n",
        "exception exceptionError:\n",
        "  statement 2\n",
        "```"
      ],
      "metadata": {
        "id": "nFWQCPCLDplc"
      }
    },
    {
      "cell_type": "markdown",
      "source": [
        "#### Handle Zero Exception"
      ],
      "metadata": {
        "id": "drSbjiWeDxNZ"
      }
    },
    {
      "cell_type": "code",
      "source": [
        "num1 = int(input(\"Enter the numerator: \"))\n",
        "num2 = int(input(\"Enter the denominator: \"))\n",
        "try:\n",
        "  quo = num1 / num2\n",
        "  print(\"Quotient:\", quo)\n",
        "except ZeroDivisionError:\n",
        "  print(\"Denominator cannot be zero\")"
      ],
      "metadata": {
        "id": "hPP-K6A548QC",
        "colab": {
          "base_uri": "https://localhost:8080/"
        },
        "outputId": "0ed91fea-d9f8-4c66-90b6-46f620460e8b"
      },
      "execution_count": 12,
      "outputs": [
        {
          "output_type": "stream",
          "name": "stdout",
          "text": [
            "Enter the numerator: 10\n",
            "Enter the denominator: 0\n",
            "Denominator cannot be zero\n"
          ]
        }
      ]
    },
    {
      "cell_type": "markdown",
      "source": [
        "#### Multiple Exception Blocks"
      ],
      "metadata": {
        "id": "hMa51TX2EzeZ"
      }
    },
    {
      "cell_type": "code",
      "source": [
        "try:\n",
        "  num = int(input(\"Enter a number: \"))\n",
        "  print(num ** 3)\n",
        "except KeyboardInterrupt:\n",
        "  print(\"Enter only numeric...... Program End!!! \")\n",
        "except ValueError:\n",
        "  print(\"Please Enter Carefully......\")\n",
        "print(\"Exit From Exception\")"
      ],
      "metadata": {
        "colab": {
          "base_uri": "https://localhost:8080/"
        },
        "id": "SdZsMghfEb77",
        "outputId": "fdeb970c-59e2-4a4d-cea6-6277c0aff75f"
      },
      "execution_count": 13,
      "outputs": [
        {
          "output_type": "stream",
          "name": "stdout",
          "text": [
            "Enter a number: bjhsdkgf\n",
            "Please Enter Carefully......\n",
            "Exit From Exception\n"
          ]
        }
      ]
    },
    {
      "cell_type": "code",
      "source": [
        "try:\n",
        "  num = int(input(\"Enter a number: \"))\n",
        "  print(num - 55)\n",
        "except (KeyboardInterrupt, ValueError, TypeError):\n",
        "  print(\"Accessing from the blocks above\")\n",
        "print(\"END\")"
      ],
      "metadata": {
        "colab": {
          "base_uri": "https://localhost:8080/"
        },
        "id": "B11ZmhxGGBw7",
        "outputId": "5e8056cf-5688-4318-b80a-e005323ffda5"
      },
      "execution_count": 14,
      "outputs": [
        {
          "output_type": "stream",
          "name": "stdout",
          "text": [
            "Enter a number: ttt\n",
            "Accessing from the blocks above\n",
            "END\n"
          ]
        }
      ]
    },
    {
      "cell_type": "code",
      "source": [],
      "metadata": {
        "id": "A_HxsPnzIppT"
      },
      "execution_count": null,
      "outputs": []
    }
  ]
}