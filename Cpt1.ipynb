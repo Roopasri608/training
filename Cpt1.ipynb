{
  "nbformat": 4,
  "nbformat_minor": 0,
  "metadata": {
    "colab": {
      "provenance": [],
      "authorship_tag": "ABX9TyO9/1TdfnUAByuDo61nXtID",
      "include_colab_link": true
    },
    "kernelspec": {
      "name": "python3",
      "display_name": "Python 3"
    },
    "language_info": {
      "name": "python"
    }
  },
  "cells": [
    {
      "cell_type": "markdown",
      "metadata": {
        "id": "view-in-github",
        "colab_type": "text"
      },
      "source": [
        "<a href=\"https://colab.research.google.com/github/KodaliSuchitraKamala/CPT_Training/blob/main/Cpt1.ipynb\" target=\"_parent\"><img src=\"https://colab.research.google.com/assets/colab-badge.svg\" alt=\"Open In Colab\"/></a>"
      ]
    },
    {
      "cell_type": "markdown",
      "source": [
        "#### Swap --> A, B = B, A --> tuple swapping"
      ],
      "metadata": {
        "id": "IGsb1REVOgmQ"
      }
    },
    {
      "cell_type": "code",
      "execution_count": null,
      "metadata": {
        "colab": {
          "base_uri": "https://localhost:8080/"
        },
        "id": "XtE2qL3UOBpv",
        "outputId": "1132824d-321d-4416-8bbb-872e48b3e74e"
      },
      "outputs": [
        {
          "output_type": "stream",
          "name": "stdout",
          "text": [
            "10 20\n",
            "20 10\n"
          ]
        }
      ],
      "source": [
        "A = 10\n",
        "B = 20\n",
        "print(A,B)\n",
        "A, B = B, A\n",
        "print(A,B)"
      ]
    },
    {
      "cell_type": "markdown",
      "source": [
        "#### \"temp\" Variable"
      ],
      "metadata": {
        "id": "gRpQuuW-OzM_"
      }
    },
    {
      "cell_type": "code",
      "source": [
        "A = 10\n",
        "B = 20\n",
        "print(A,B)\n",
        "temp = A\n",
        "A = B\n",
        "B = temp\n",
        "print(A,B)"
      ],
      "metadata": {
        "colab": {
          "base_uri": "https://localhost:8080/"
        },
        "id": "H2p6euuwOcuZ",
        "outputId": "ce068ec5-b162-49f3-c488-e9c3d86b9de7"
      },
      "execution_count": null,
      "outputs": [
        {
          "output_type": "stream",
          "name": "stdout",
          "text": [
            "10 20\n",
            "20 10\n"
          ]
        }
      ]
    },
    {
      "cell_type": "markdown",
      "source": [
        "#### Using +, -, *, and /\n"
      ],
      "metadata": {
        "id": "36ihXO5qPBzv"
      }
    },
    {
      "cell_type": "code",
      "source": [
        "A = 20\n",
        "B = 10\n",
        "print(A + B)\n",
        "print(A - B)\n",
        "print(A * B)\n",
        "print(A / B)"
      ],
      "metadata": {
        "colab": {
          "base_uri": "https://localhost:8080/"
        },
        "id": "s9ykY5oYPAgR",
        "outputId": "18a0cc8b-d55f-4b32-f047-3f7366320410"
      },
      "execution_count": null,
      "outputs": [
        {
          "output_type": "stream",
          "name": "stdout",
          "text": [
            "30\n",
            "10\n",
            "200\n",
            "2.0\n"
          ]
        }
      ]
    },
    {
      "cell_type": "markdown",
      "source": [
        "#### Circumflex operation (XOR) operation"
      ],
      "metadata": {
        "id": "Qb_0SR9UPhDP"
      }
    },
    {
      "cell_type": "code",
      "source": [
        "a = 1\n",
        "b = 2\n",
        "a = a ^ b\n",
        "b = a ^ b\n",
        "a = a ^ b\n",
        "print(a, b)"
      ],
      "metadata": {
        "colab": {
          "base_uri": "https://localhost:8080/"
        },
        "id": "NWcxxU_yPfFI",
        "outputId": "d7de23da-e722-40c2-b178-076433f5001b"
      },
      "execution_count": null,
      "outputs": [
        {
          "output_type": "stream",
          "name": "stdout",
          "text": [
            "2 1\n"
          ]
        }
      ]
    },
    {
      "cell_type": "markdown",
      "source": [
        "#### Write a program to swap 2 Variables using AND and OR With a feasible empty bucket"
      ],
      "metadata": {
        "id": "f-HoGcc0P5ZH"
      }
    },
    {
      "cell_type": "code",
      "source": [
        "a = 2\n",
        "b = 2\n",
        "a = int(a / b) & b\n",
        "b = int(temp /b) & temp\n",
        "print(a)\n",
        "print(b)"
      ],
      "metadata": {
        "colab": {
          "base_uri": "https://localhost:8080/"
        },
        "id": "fF97HQLaP3dX",
        "outputId": "7b40ff31-e3df-41aa-e04a-70331044c4f4"
      },
      "execution_count": null,
      "outputs": [
        {
          "output_type": "stream",
          "name": "stdout",
          "text": [
            "0\n",
            "0\n"
          ]
        }
      ]
    },
    {
      "cell_type": "markdown",
      "source": [
        "#### Dictionary variable swap\n"
      ],
      "metadata": {
        "id": "qJbirhaDQtU4"
      }
    },
    {
      "cell_type": "code",
      "source": [
        "dict1 = {'a' : 11, 'b' : 22}\n",
        "dict1['a'], dict1['b'] = dict1['b'], dict1['a']\n",
        "print(dict1)"
      ],
      "metadata": {
        "colab": {
          "base_uri": "https://localhost:8080/"
        },
        "id": "58w9kovnQXTA",
        "outputId": "1744eed5-3db0-44db-b94a-3ce270e14221"
      },
      "execution_count": null,
      "outputs": [
        {
          "output_type": "stream",
          "name": "stdout",
          "text": [
            "{'a': 22, 'b': 11}\n"
          ]
        }
      ]
    },
    {
      "cell_type": "code",
      "source": [
        "gen = iter([1,2])\n",
        "lst = list(gen)\n",
        "lst[0], lst[1] = lst[1], lst[0]\n",
        "print(lst)"
      ],
      "metadata": {
        "colab": {
          "base_uri": "https://localhost:8080/"
        },
        "id": "nTOQlGyJRC0J",
        "outputId": "974d34c9-3543-4dfc-915e-0c549dddf3de"
      },
      "execution_count": null,
      "outputs": [
        {
          "output_type": "stream",
          "name": "stdout",
          "text": [
            "[2, 1]\n"
          ]
        }
      ]
    },
    {
      "cell_type": "markdown",
      "source": [
        "#### armstrong, nivens/harshd number"
      ],
      "metadata": {
        "id": "YJrgpkL0SIVZ"
      }
    },
    {
      "cell_type": "code",
      "source": [
        "n = int(input())\n",
        "sum = 0\n",
        "copy = n\n",
        "while n > 0:\n",
        "  r = n % 10\n",
        "  sum += r\n",
        "  n //= 20\n",
        "if copy % sum == 0:\n",
        "  print(\"Harshad Number\")\n",
        "else:\n",
        "  print(\"not\")"
      ],
      "metadata": {
        "colab": {
          "base_uri": "https://localhost:8080/"
        },
        "id": "9fvGfoyuRTGQ",
        "outputId": "298860ea-4243-4027-9be7-6b2d4a2ce9cc"
      },
      "execution_count": null,
      "outputs": [
        {
          "output_type": "stream",
          "name": "stdout",
          "text": [
            "121\n",
            "not\n"
          ]
        }
      ]
    },
    {
      "cell_type": "markdown",
      "source": [
        "#### Strong Number (Krishnamurthy number)\n",
        "#### 145 = 1! + 4! + 5! = 145"
      ],
      "metadata": {
        "id": "jwISV8rHTNZp"
      }
    },
    {
      "cell_type": "code",
      "source": [
        "n = int(input())\n",
        "copy = n\n",
        "sum = 0\n",
        "while n > 0:\n",
        "  r = n % 10\n",
        "  f = 1\n",
        "  for i in range(1, r + 1):\n",
        "    f *= i\n",
        "  sum += f\n",
        "  n //= 10\n",
        "if copy == sum:\n",
        "  print(\"yes\")\n",
        "else:\n",
        "  print(\"no\")"
      ],
      "metadata": {
        "colab": {
          "base_uri": "https://localhost:8080/"
        },
        "id": "tswZC7yyTMwY",
        "outputId": "0efca174-4fb9-48ff-895d-3ede3c217483"
      },
      "execution_count": null,
      "outputs": [
        {
          "output_type": "stream",
          "name": "stdout",
          "text": [
            "145\n",
            "yes\n"
          ]
        }
      ]
    },
    {
      "cell_type": "markdown",
      "source": [
        "#### Happy Number"
      ],
      "metadata": {
        "id": "LBxU62dKxwuM"
      }
    },
    {
      "cell_type": "code",
      "source": [
        "def is_happy_number(num):\n",
        "    seen = set()\n",
        "    while num != 1 and num not in seen:\n",
        "        seen.add(num)\n",
        "        num = sum(int(digit)**2 for digit in str(num))\n",
        "    return num == 1\n",
        "num = int(input(\"Enter a number: \"))\n",
        "if is_happy_number(num):\n",
        "    print(num, \"is a happy number\")\n",
        "else:\n",
        "    print(num, \"is not a happy number\")"
      ],
      "metadata": {
        "colab": {
          "base_uri": "https://localhost:8080/"
        },
        "id": "3BxUNtWagmzQ",
        "outputId": "da64ac95-a6dd-484d-b23d-fe0053dc2002"
      },
      "execution_count": null,
      "outputs": [
        {
          "output_type": "stream",
          "name": "stdout",
          "text": [
            "Enter a number: 7\n",
            "7 is a happy number\n"
          ]
        }
      ]
    },
    {
      "cell_type": "markdown",
      "source": [
        "#### Automorphic Number"
      ],
      "metadata": {
        "id": "8QsDff3Kx2HU"
      }
    },
    {
      "cell_type": "code",
      "source": [
        "def is_automorphic(num):\n",
        "    square = num * num\n",
        "    num_str = str(num)\n",
        "    square_str = str(square)\n",
        "    return square_str.endswith(num_str)\n",
        "num = int(input(\"Enter a number: \"))\n",
        "if is_automorphic(num):\n",
        "    print(num, \"is an automorphic number\")\n",
        "else:\n",
        "    print(num, \"is not an automorphic number\")"
      ],
      "metadata": {
        "colab": {
          "base_uri": "https://localhost:8080/"
        },
        "id": "hvZubEzjiT6h",
        "outputId": "7b69388c-8084-4412-afff-933c526fc9d7"
      },
      "execution_count": null,
      "outputs": [
        {
          "output_type": "stream",
          "name": "stdout",
          "text": [
            "Enter a number: 25\n",
            "25 is an automorphic number\n"
          ]
        }
      ]
    },
    {
      "cell_type": "markdown",
      "source": [
        "#### Magic Number"
      ],
      "metadata": {
        "id": "JKkifdQvx7ss"
      }
    },
    {
      "cell_type": "code",
      "source": [
        "def is_magic_number(num):\n",
        "    while num > 9:\n",
        "        sum_digits = sum(int(digit) for digit in str(num))\n",
        "        num = sum_digits\n",
        "    return num == 1\n",
        "num = int(input(\"Enter a number: \"))\n",
        "if is_magic_number(num):\n",
        "    print(num, \"is a magic number\")\n",
        "else:\n",
        "    print(num, \"is not a magic number\")"
      ],
      "metadata": {
        "colab": {
          "base_uri": "https://localhost:8080/"
        },
        "id": "6c3k0VPFkAaJ",
        "outputId": "2e1eecf8-0852-47a8-8e66-cbc4581eeef2"
      },
      "execution_count": null,
      "outputs": [
        {
          "output_type": "stream",
          "name": "stdout",
          "text": [
            "Enter a number: 1234\n",
            "1234 is a magic number\n"
          ]
        }
      ]
    },
    {
      "cell_type": "markdown",
      "source": [
        "#### Adam's Number\n"
      ],
      "metadata": {
        "id": "kxDfdys3x-w8"
      }
    },
    {
      "cell_type": "code",
      "source": [
        "import math\n",
        "def is_adams_number(n):\n",
        "  if n < 0:\n",
        "    return False\n",
        "  square_n = n * n\n",
        "  reverse_n = int(str(n)[::-1])\n",
        "  square_reverse_n = reverse_n * reverse_n\n",
        "  reverse_square_reverse_n = int(str(square_reverse_n)[::-1])\n",
        "  return square_n == reverse_square_reverse_n\n",
        "num = int(input(\"Enter a number: \"))\n",
        "\n",
        "# Check if the number is an Adam's number\n",
        "if is_adams_number(num):\n",
        "  print(num, \"is an Adam's number\")\n",
        "else:\n",
        "  print(num, \"is not an Adam's number\")"
      ],
      "metadata": {
        "id": "RTM9EH6ikTAJ",
        "colab": {
          "base_uri": "https://localhost:8080/"
        },
        "outputId": "da2a57de-4598-40b4-b1e2-569af5f0a16e"
      },
      "execution_count": null,
      "outputs": [
        {
          "output_type": "stream",
          "name": "stdout",
          "text": [
            "Enter a number: 12\n",
            "12 is an Adam's number\n"
          ]
        }
      ]
    },
    {
      "cell_type": "code",
      "source": [],
      "metadata": {
        "id": "0oxb93vtygZd"
      },
      "execution_count": null,
      "outputs": []
    }
  ]
}