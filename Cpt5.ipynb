{
  "nbformat": 4,
  "nbformat_minor": 0,
  "metadata": {
    "colab": {
      "provenance": [],
      "authorship_tag": "ABX9TyMX4G93eLNsuuxUt0HBlj+e",
      "include_colab_link": true
    },
    "kernelspec": {
      "name": "python3",
      "display_name": "Python 3"
    },
    "language_info": {
      "name": "python"
    }
  },
  "cells": [
    {
      "cell_type": "markdown",
      "metadata": {
        "id": "view-in-github",
        "colab_type": "text"
      },
      "source": [
        "<a href=\"https://colab.research.google.com/github/KodaliSuchitraKamala/CPT_Training/blob/main/Cpt5.ipynb\" target=\"_parent\"><img src=\"https://colab.research.google.com/assets/colab-badge.svg\" alt=\"Open In Colab\"/></a>"
      ]
    },
    {
      "cell_type": "markdown",
      "source": [
        "#### Basic Constructor Usage __init__\n",
        "###### automatically runs a method, where a new object is created\n",
        "###### display ----> data"
      ],
      "metadata": {
        "id": "GozuzeMxnOsb"
      }
    },
    {
      "cell_type": "code",
      "execution_count": null,
      "metadata": {
        "id": "4OBR-ZgXeNF6",
        "colab": {
          "base_uri": "https://localhost:8080/"
        },
        "outputId": "317a7d55-d911-4d99-a94f-8d57b72436f5"
      },
      "outputs": [
        {
          "output_type": "stream",
          "name": "stdout",
          "text": [
            "Name: Suchitra, Roll No: 6145\n",
            "Name: Roopa Sir, Roll No: 6122\n",
            "Name: Eswari, Roll No: 6126\n"
          ]
        }
      ],
      "source": [
        "class student:\n",
        "  def __init__(self, name, num):\n",
        "    self.name = name\n",
        "    self.num = num\n",
        "  def display(self):\n",
        "    print(f\"Name: {self.name}, Roll No: {self.num}\")\n",
        "s1 = student('Suchitra', 6145)\n",
        "s2 = student('Roopa Sir', 6122)\n",
        "s3 = student('Eswari', 6126)\n",
        "s1.display()\n",
        "s2.display()\n",
        "s3.display()"
      ]
    },
    {
      "cell_type": "code",
      "source": [
        "\"\"\" code for calculating the area and perimeter of a reactangle by taking a\n",
        "user defined input as an object and class as rectangle, return the values to display \"\"\"\n",
        "class reactangle:\n",
        "  def __init__(self, l, b):\n",
        "    self.l = l\n",
        "    self.b = b\n",
        "  def area(self):\n",
        "    return self.l * self.b\n",
        "  def perimeter(self):\n",
        "    return 2 * self.l + 2 * self.b\n",
        "length = int(input(\"Enter the value of Length: \"))\n",
        "breadth = int(input(\"Enter the value of Breadth: \"))\n",
        "r = reactangle(length, breadth)\n",
        "print(\"Area of reactangle:\", r.area())\n",
        "print(\"Perimeter of reactangle:\", r.perimeter())"
      ],
      "metadata": {
        "colab": {
          "base_uri": "https://localhost:8080/"
        },
        "id": "Vj7Lzb9onRhE",
        "outputId": "463554c1-871d-461d-d3d3-409f55cf030c"
      },
      "execution_count": null,
      "outputs": [
        {
          "output_type": "stream",
          "name": "stdout",
          "text": [
            "Enter the value of Length: 6\n",
            "Enter the value of Breadth: 4\n",
            "Area of reactangle: 24\n",
            "Perimeter of reactangle: 20\n"
          ]
        }
      ]
    },
    {
      "cell_type": "markdown",
      "source": [
        "#### calling a method from another method in a single class"
      ],
      "metadata": {
        "id": "0KESYhNruCTT"
      }
    },
    {
      "cell_type": "code",
      "source": [
        "class abc():\n",
        "  def __init__(self, var):\n",
        "    self.var = var\n",
        "  def display(self):\n",
        "    print(\"Variable:\", self.var)\n",
        "  def call(self):\n",
        "    self.var += 1000\n",
        "    self.display()\n",
        "obj = abc(100)\n",
        "obj.call()"
      ],
      "metadata": {
        "colab": {
          "base_uri": "https://localhost:8080/"
        },
        "id": "rKOgLzGyqh3T",
        "outputId": "61fb3c91-cd73-4158-8c9a-d2f1a7588d8f"
      },
      "execution_count": null,
      "outputs": [
        {
          "output_type": "stream",
          "name": "stdout",
          "text": [
            "Variable: 1100\n"
          ]
        }
      ]
    },
    {
      "cell_type": "code",
      "source": [
        "\"\"\" code for a class method to call a fucntion, which is defined in global\n",
        "namespace \"\"\"\n",
        "def globe(x):\n",
        "  return x * 10\n",
        "class abc():\n",
        "  def __init__(self, var):\n",
        "    self.var = var\n",
        "  def display(self):\n",
        "    print(\"Variable: \", self.var)\n",
        "  def modify(self):\n",
        "    self.var = globe(self.var)\n",
        "obj = abc(100)\n",
        "obj.display()\n",
        "obj.modify()\n",
        "obj.display()"
      ],
      "metadata": {
        "id": "8q0o0vaSuEzS",
        "colab": {
          "base_uri": "https://localhost:8080/"
        },
        "outputId": "a5c65d79-65f1-4269-de0b-6e00e6c96aa2"
      },
      "execution_count": null,
      "outputs": [
        {
          "output_type": "stream",
          "name": "stdout",
          "text": [
            "Variable:  100\n",
            "Variable:  1000\n"
          ]
        }
      ]
    },
    {
      "cell_type": "code",
      "source": [
        "\"\"\" Program that uses class as student to store the name and marks\n",
        "of the student, use s list to store the marks of 3 subjects,\n",
        "constraints:\n",
        "1. take class as student\n",
        "2. create a construtor for the student name\n",
        "3. create a function for marks, to be entered manually within the class function\n",
        "and add the marks to the list\n",
        "4. display then student name and the marks he/she got\n",
        "5. pass the object's attributes of two student names\n",
        "tc:\n",
        "obj1: \"Suchitra\"\n",
        "obj2: \"Kamala\"\n",
        "output: Suchitra got[88, 88, 90]\n",
        "        Kamala got[77, 78, 90]\"\"\"\n",
        "class student():\n",
        "  def __init__(self, name):\n",
        "    self.name = name\n",
        "    self.m = []\n",
        "  def marks(self):\n",
        "    for i in range(3):\n",
        "      m = int(input(\"enter the marks of %s in subject %d: \"%(self.name, i + 1)))\n",
        "      self.m.append(m)\n",
        "  def display(self):\n",
        "    print(f\"{self.name} got {self.m}\")\n",
        "obj1 = student(\"Suchitra\")\n",
        "obj1.marks()\n",
        "obj2 = student(\"Kamala\")\n",
        "obj2.marks()\n",
        "obj1.display()\n",
        "obj2.display()"
      ],
      "metadata": {
        "colab": {
          "base_uri": "https://localhost:8080/"
        },
        "id": "Nwtz9j4S1YhE",
        "outputId": "bfcaf787-4cd6-4d97-e219-485d4eb68552"
      },
      "execution_count": null,
      "outputs": [
        {
          "output_type": "stream",
          "name": "stdout",
          "text": [
            "enter the marks of Suchitra in subject 1: 88\n",
            "enter the marks of Suchitra in subject 2: 88\n",
            "enter the marks of Suchitra in subject 3: 90\n",
            "enter the marks of Kamala in subject 1: 77\n",
            "enter the marks of Kamala in subject 2: 78\n",
            "enter the marks of Kamala in subject 3: 90\n",
            "Suchitra got [88, 88, 90]\n",
            "Kamala got [77, 78, 90]\n"
          ]
        }
      ]
    },
    {
      "cell_type": "code",
      "source": [],
      "metadata": {
        "id": "6_UZh26sB7RE"
      },
      "execution_count": null,
      "outputs": []
    }
  ]
}